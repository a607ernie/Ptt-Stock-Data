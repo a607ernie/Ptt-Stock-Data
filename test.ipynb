{
 "cells": [
  {
   "cell_type": "code",
   "execution_count": null,
   "metadata": {},
   "outputs": [],
   "source": [
    "import requests\n",
    "from bs4 import BeautifulSoup\n",
    "import json\n",
    "import lxml\n",
    "import pandas as pd\n",
    "from dotenv import dotenv_values\n",
    "import datetime,os\n"
   ]
  },
  {
   "cell_type": "code",
   "execution_count": null,
   "metadata": {},
   "outputs": [],
   "source": [
    "dict_headers = {'Content-type': 'application/json'}\n",
    "config = dotenv_values(\".env\")\n",
    "\n",
    "loc_dt = datetime.datetime.today() \n",
    "loc_dt_format = loc_dt.strftime(\"%Y/%m/%d %H:%M:%S\")\n",
    "print(loc_dt_format)\n"
   ]
  },
  {
   "cell_type": "code",
   "execution_count": null,
   "metadata": {},
   "outputs": [],
   "source": [
    "dict_payload = {\n",
    "        \"text\": \"[EC2] 有一台 p2.16xlarge 啟動($14.4/hr)! 快去瞧瞧! Instance ID: i-0f79c4167c706776c \"}\n",
    "rtn = requests.post(os.getenv('SLACK_WEBHOOK'), data=json.dumps(dict_payload), headers=dict_headers)\n",
    "print(rtn)\n",
    "json.dumps(dict_payload)"
   ]
  },
  {
   "cell_type": "code",
   "execution_count": null,
   "metadata": {},
   "outputs": [],
   "source": [
    "with open('ptt_stock.json', encoding='utf-8') as fh:\n",
    "    data = json.load(fh)\n",
    "\n",
    "df = pd.DataFrame(data).T.reset_index()\n",
    "filter_df = df[['STOCK_ID','TITLE','AUTHOR','LINK']]\n",
    "\n",
    "#json_filter_df = filter_df.set_index('TITLE').to_json(force_ascii=False,orient='index')\n",
    "#json_filter_df\n",
    "\n",
    "\n",
    "slack_content = \"\"\n",
    "for index, row in filter_df.iterrows():\n",
    "    #print(row)\n",
    "    slack_content += \"\\nSTOCK ID : {} \\nTITLE : {}\\nAUTHOR: {}\\n\"\\\n",
    "        .format(row['STOCK_ID'],row['TITLE'],row['AUTHOR'])\n",
    "\n",
    "print(slack_content)\n",
    "\n",
    "# payload = []\n",
    "# for i in data.keys():\n",
    "#     print(data[i])\n",
    "#     temp = {\n",
    "#         \"STOCK_ID\":data[i]['STOCK_ID']\n",
    "#         \"TITLE\":data[]\n",
    "#     }\n",
    "#     break\n",
    "#     payload.append()\n",
    "\n"
   ]
  },
  {
   "cell_type": "code",
   "execution_count": null,
   "metadata": {},
   "outputs": [],
   "source": [
    "slack_data = {\n",
    "            \"icon_emoji\": \":satellite:\",\n",
    "            \"channel\" : \"#ptt-stock\",\n",
    "            \"attachments\": [\n",
    "                {\n",
    "                    \"color\": \"#a633ee\",\n",
    "                    \"fields\": [\n",
    "                        {\n",
    "                            \"title\": \"New Incoming Message :zap:\",\n",
    "                            \"value\": slack_content,\n",
    "                            \"short\": \"true\",\n",
    "                        }\n",
    "                    ]\n",
    "                }\n",
    "            ]\n",
    "        }\n",
    "rtn = requests.post(config['SLACK_WEBHOOK'], data=json.dumps(slack_data),headers=dict_headers)\n",
    "print(rtn)"
   ]
  },
  {
   "cell_type": "code",
   "execution_count": null,
   "metadata": {},
   "outputs": [],
   "source": [
    "s = {\n",
    "\t\"blocks\": [\n",
    "\t\t{\n",
    "\t\t\t\"type\": \"section\",\n",
    "\t\t\t\"text\": {\n",
    "\t\t\t\t\"type\": \"mrkdwn\",\n",
    "\t\t\t\t\"text\": \"*PTT STOCK* :zap: {}\".format(loc_dt_format)\n",
    "\t\t\t}\n",
    "\t\t},\n",
    "\t\t{\n",
    "\t\t\t\"type\": \"divider\"\n",
    "\t\t},\n",
    "\t\t{\n",
    "\t\t\t\"type\": \"section\",\n",
    "\t\t\t\"text\": {\n",
    "\t\t\t\t\"type\": \"mrkdwn\",\n",
    "\t\t\t\t\"text\": \">*Team Lunch (Internal)*\\nCost: *$85.50USD*\\nDate: *10/16/2019*\\nService Provider: *Honest Sandwiches*  \\nExpense no. *<fakelink.toUrl.com|#1797PD>*\"\n",
    "\t\t\t}\n",
    "\t\t},\n",
    "\t\t{\n",
    "\t\t\t\"type\": \"actions\",\n",
    "\t\t\t\"elements\": [\n",
    "\t\t\t\t{\n",
    "\t\t\t\t\t\"type\": \"button\",\n",
    "\t\t\t\t\t\"text\": {\n",
    "\t\t\t\t\t\t\"type\": \"plain_text\",\n",
    "\t\t\t\t\t\t\"text\": \"Click Me\"\n",
    "\t\t\t\t\t},\n",
    "\t\t\t\t\t\"value\": \"click_me_123\",\n",
    "\t\t\t\t\t\"url\": \"https://google.com\",\n",
    "\t\t\t\t\t\"action_id\": \"button-action\"\n",
    "\t\t\t\t}\n",
    "\t\t\t]\n",
    "\t\t},\n",
    "\t\t{\n",
    "\t\t\t\"type\": \"divider\"\n",
    "\t\t}\n",
    "\t]\n",
    "}"
   ]
  },
  {
   "cell_type": "code",
   "execution_count": null,
   "metadata": {},
   "outputs": [],
   "source": [
    "s['blocks']"
   ]
  },
  {
   "cell_type": "code",
   "execution_count": null,
   "metadata": {},
   "outputs": [],
   "source": [
    "for index, row in filter_df.iterrows():\n",
    "    #s['blocks'].append({'type': 'divider'})\n",
    "    s['blocks'].append({'type': 'section', 'text': {'type': 'mrkdwn',\"text\":\"\\n*<{}|{}>*\\n*STOCK ID* : {} \\n*AUTHOR* : {}\\n\"\\\n",
    "        .format(row['LINK'],row['TITLE'],row['STOCK_ID'],row['AUTHOR'])}})\n",
    "    \n",
    "    s['blocks'].append({'type': 'divider'})\n",
    "    \n",
    "        \n",
    "print(s)\n",
    "    "
   ]
  },
  {
   "cell_type": "code",
   "execution_count": null,
   "metadata": {},
   "outputs": [],
   "source": [
    "rtn = requests.post(config['SLACK_WEBHOOK'], data=json.dumps(s),headers=dict_headers)\n",
    "print(rtn)"
   ]
  },
  {
   "cell_type": "code",
   "execution_count": null,
   "metadata": {},
   "outputs": [],
   "source": [
    "s"
   ]
  }
 ],
 "metadata": {
  "kernelspec": {
   "display_name": "venv",
   "language": "python",
   "name": "python3"
  },
  "language_info": {
   "codemirror_mode": {
    "name": "ipython",
    "version": 3
   },
   "file_extension": ".py",
   "mimetype": "text/x-python",
   "name": "python",
   "nbconvert_exporter": "python",
   "pygments_lexer": "ipython3",
   "version": "3.10.7"
  },
  "orig_nbformat": 4,
  "vscode": {
   "interpreter": {
    "hash": "0dd21a6e9f4b0e9677a3c934b8c49fa0ebe81332663a494e98ae10881126dd6b"
   }
  }
 },
 "nbformat": 4,
 "nbformat_minor": 2
}
