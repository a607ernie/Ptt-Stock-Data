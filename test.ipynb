{
 "cells": [
  {
   "cell_type": "code",
   "execution_count": 1,
   "metadata": {},
   "outputs": [],
   "source": [
    "import requests\n",
    "from bs4 import BeautifulSoup\n",
    "import json\n",
    "import lxml\n",
    "import pandas as pd\n",
    "from dotenv import dotenv_values\n",
    "import datetime"
   ]
  },
  {
   "cell_type": "code",
   "execution_count": 2,
   "metadata": {},
   "outputs": [
    {
     "name": "stdout",
     "output_type": "stream",
     "text": [
      "2023/01/11 15:57:33\n"
     ]
    }
   ],
   "source": [
    "dict_headers = {'Content-type': 'application/json'}\n",
    "config = dotenv_values(\".env\")\n",
    "\n",
    "loc_dt = datetime.datetime.today() \n",
    "loc_dt_format = loc_dt.strftime(\"%Y/%m/%d %H:%M:%S\")\n",
    "print(loc_dt_format)\n"
   ]
  },
  {
   "cell_type": "code",
   "execution_count": 3,
   "metadata": {},
   "outputs": [
    {
     "name": "stdout",
     "output_type": "stream",
     "text": [
      "<Response [200]>\n"
     ]
    },
    {
     "data": {
      "text/plain": [
       "'{\"text\": \"[EC2] \\\\u6709\\\\u4e00\\\\u53f0 p2.16xlarge \\\\u555f\\\\u52d5($14.4/hr)! \\\\u5feb\\\\u53bb\\\\u77a7\\\\u77a7! Instance ID: i-0f79c4167c706776c \"}'"
      ]
     },
     "execution_count": 3,
     "metadata": {},
     "output_type": "execute_result"
    }
   ],
   "source": [
    "dict_payload = {\n",
    "        \"text\": \"[EC2] 有一台 p2.16xlarge 啟動($14.4/hr)! 快去瞧瞧! Instance ID: i-0f79c4167c706776c \"}\n",
    "rtn = requests.post(config['SLACK_WEBHOOK'], data=json.dumps(dict_payload), headers=dict_headers)\n",
    "print(rtn)\n",
    "json.dumps(dict_payload)"
   ]
  },
  {
   "cell_type": "code",
   "execution_count": 4,
   "metadata": {},
   "outputs": [
    {
     "name": "stdout",
     "output_type": "stream",
     "text": [
      "\n",
      "STOCK ID : 2609 \n",
      "TITLE : Re: [標的] 2609 陽明 軍工多\n",
      "AUTHOR: YU1225\n",
      "\n",
      "STOCK ID : 0 \n",
      "TITLE : [標的] TMF.US 多\n",
      "AUTHOR: futurerich\n",
      "\n",
      "STOCK ID : 3037 \n",
      "TITLE : [標的] 3037欣興8046南電 多\n",
      "AUTHOR: kuanyu1026\n",
      "\n",
      "STOCK ID : 2317 \n",
      "TITLE : Re: [標的] 2317鴻海 裕隆2201 趨勢就是多\n",
      "AUTHOR: morethanless\n",
      "\n",
      "STOCK ID : 0091 \n",
      "TITLE : [標的] 0091.HK 金禧國際 討論\n",
      "AUTHOR: black80731\n",
      "\n",
      "STOCK ID : 2885 \n",
      "TITLE : [標的] 2885 元大金\n",
      "AUTHOR: sheisol\n",
      "\n"
     ]
    }
   ],
   "source": [
    "with open('ptt_stock.json', encoding='utf-8') as fh:\n",
    "    data = json.load(fh)\n",
    "\n",
    "df = pd.DataFrame(data).T.reset_index()\n",
    "filter_df = df[['STOCK_ID','TITLE','AUTHOR','LINK']]\n",
    "\n",
    "#json_filter_df = filter_df.set_index('TITLE').to_json(force_ascii=False,orient='index')\n",
    "#json_filter_df\n",
    "\n",
    "\n",
    "slack_content = \"\"\n",
    "for index, row in filter_df.iterrows():\n",
    "    #print(row)\n",
    "    slack_content += \"\\nSTOCK ID : {} \\nTITLE : {}\\nAUTHOR: {}\\n\"\\\n",
    "        .format(row['STOCK_ID'],row['TITLE'],row['AUTHOR'])\n",
    "\n",
    "print(slack_content)\n",
    "\n",
    "# payload = []\n",
    "# for i in data.keys():\n",
    "#     print(data[i])\n",
    "#     temp = {\n",
    "#         \"STOCK_ID\":data[i]['STOCK_ID']\n",
    "#         \"TITLE\":data[]\n",
    "#     }\n",
    "#     break\n",
    "#     payload.append()\n",
    "\n"
   ]
  },
  {
   "cell_type": "code",
   "execution_count": 5,
   "metadata": {},
   "outputs": [
    {
     "name": "stdout",
     "output_type": "stream",
     "text": [
      "<Response [200]>\n"
     ]
    }
   ],
   "source": [
    "slack_data = {\n",
    "            \"icon_emoji\": \":satellite:\",\n",
    "            \"channel\" : \"#ptt-stock\",\n",
    "            \"attachments\": [\n",
    "                {\n",
    "                    \"color\": \"#a633ee\",\n",
    "                    \"fields\": [\n",
    "                        {\n",
    "                            \"title\": \"New Incoming Message :zap:\",\n",
    "                            \"value\": slack_content,\n",
    "                            \"short\": \"true\",\n",
    "                        }\n",
    "                    ]\n",
    "                }\n",
    "            ]\n",
    "        }\n",
    "rtn = requests.post(config['SLACK_WEBHOOK'], data=json.dumps(slack_data),headers=dict_headers)\n",
    "print(rtn)"
   ]
  },
  {
   "cell_type": "code",
   "execution_count": 33,
   "metadata": {},
   "outputs": [],
   "source": [
    "s = {\n",
    "\t\"blocks\": [\n",
    "\t\t{\n",
    "\t\t\t\"type\": \"section\",\n",
    "\t\t\t\"text\": {\n",
    "\t\t\t\t\"type\": \"mrkdwn\",\n",
    "\t\t\t\t\"text\": \"*PTT STOCK* :zap:\"\n",
    "\t\t\t}\n",
    "\t\t},\n",
    "\t\t{\n",
    "\t\t\t\"type\": \"divider\"\n",
    "\t\t},\n",
    "\t\t{\n",
    "\t\t\t\"type\": \"section\",\n",
    "\t\t\t\"text\": {\n",
    "\t\t\t\t\"type\": \"mrkdwn\",\n",
    "\t\t\t\t\"text\": \">*Team Lunch (Internal)*\\nCost: *$85.50USD*\\nDate: *10/16/2019*\\nService Provider: *Honest Sandwiches*  \\nExpense no. *<fakelink.toUrl.com|#1797PD>*\"\n",
    "\t\t\t}\n",
    "\t\t},\n",
    "\t\t{\n",
    "\t\t\t\"type\": \"actions\",\n",
    "\t\t\t\"elements\": [\n",
    "\t\t\t\t{\n",
    "\t\t\t\t\t\"type\": \"button\",\n",
    "\t\t\t\t\t\"text\": {\n",
    "\t\t\t\t\t\t\"type\": \"plain_text\",\n",
    "\t\t\t\t\t\t\"text\": \"Click Me\"\n",
    "\t\t\t\t\t},\n",
    "\t\t\t\t\t\"value\": \"click_me_123\",\n",
    "\t\t\t\t\t\"url\": \"https://google.com\",\n",
    "\t\t\t\t\t\"action_id\": \"button-action\"\n",
    "\t\t\t\t}\n",
    "\t\t\t]\n",
    "\t\t},\n",
    "\t\t{\n",
    "\t\t\t\"type\": \"divider\"\n",
    "\t\t}\n",
    "\t]\n",
    "}"
   ]
  },
  {
   "cell_type": "code",
   "execution_count": 24,
   "metadata": {},
   "outputs": [
    {
     "data": {
      "text/plain": [
       "[{'type': 'section', 'text': {'type': 'mrkdwn', 'text': '*PTT STOCK* :zap:'}},\n",
       " {'type': 'divider'},\n",
       " {'type': 'section',\n",
       "  'text': {'type': 'mrkdwn',\n",
       "   'text': '>*Team Lunch (Internal)*\\nCost: *$85.50USD*\\nDate: *10/16/2019*\\nService Provider: *Honest Sandwiches*  \\nExpense no. *<fakelink.toUrl.com|#1797PD>*'}},\n",
       " {'type': 'actions',\n",
       "  'elements': [{'type': 'button',\n",
       "    'text': {'type': 'plain_text', 'text': 'Click Me', 'emoji': 'true'},\n",
       "    'value': 'click_me_123',\n",
       "    'url': 'https://google.com',\n",
       "    'action_id': 'button-action'}]},\n",
       " {'type': 'divider'}]"
      ]
     },
     "execution_count": 24,
     "metadata": {},
     "output_type": "execute_result"
    }
   ],
   "source": [
    "s['blocks']"
   ]
  },
  {
   "cell_type": "code",
   "execution_count": 36,
   "metadata": {},
   "outputs": [
    {
     "name": "stdout",
     "output_type": "stream",
     "text": [
      "{'blocks': [{'type': 'section', 'text': {'type': 'mrkdwn', 'text': '*PTT STOCK* :zap:'}}, {'type': 'divider'}, {'type': 'section', 'text': {'type': 'mrkdwn', 'text': '>*Team Lunch (Internal)*\\nCost: *$85.50USD*\\nDate: *10/16/2019*\\nService Provider: *Honest Sandwiches*  \\nExpense no. *<fakelink.toUrl.com|#1797PD>*'}}, {'type': 'actions', 'elements': [{'type': 'button', 'text': {'type': 'plain_text', 'text': 'Click Me'}, 'value': 'click_me_123', 'url': 'https://google.com', 'action_id': 'button-action'}]}, {'type': 'divider'}, {'type': 'section', 'text': {'type': 'mrkdwn', 'text': '\\n>*STOCK ID* : 2609 \\n*TITLE* : Re: [標的] 2609 陽明 軍工多\\n*AUTHOR* : YU1225\\n'}}, {'type': 'actions', 'elements': [{'type': 'button', 'text': {'type': 'plain_text', 'text': 'Click Me'}, 'value': 'click_me_123', 'url': 'https://www.ptt.cc/bbs/Stock/M.1673253989.A.79F.html', 'action_id': 'button-action'}]}, {'type': 'divider'}, {'type': 'section', 'text': {'type': 'mrkdwn', 'text': '\\n>*STOCK ID* : 2609 \\n*TITLE* : Re: [標的] 2609 陽明 軍工多\\n*AUTHOR* : YU1225\\n'}}, {'type': 'actions', 'elements': [{'type': 'button', 'text': {'type': 'plain_text', 'text': 'Click Me'}, 'value': 'click_me_123', 'url': 'https://www.ptt.cc/bbs/Stock/M.1673253989.A.79F.html', 'action_id': 'button-action'}]}, {'type': 'divider'}, {'type': 'section', 'text': {'type': 'mrkdwn', 'text': '\\n>*STOCK ID* : 0 \\n*TITLE* : [標的] TMF.US 多\\n*AUTHOR* : futurerich\\n'}}, {'type': 'actions', 'elements': [{'type': 'button', 'text': {'type': 'plain_text', 'text': 'Click Me'}, 'value': 'click_me_123', 'url': 'https://www.ptt.cc/bbs/Stock/M.1673258861.A.DF5.html', 'action_id': 'button-action'}]}, {'type': 'divider'}, {'type': 'section', 'text': {'type': 'mrkdwn', 'text': '\\n>*STOCK ID* : 3037 \\n*TITLE* : [標的] 3037欣興8046南電 多\\n*AUTHOR* : kuanyu1026\\n'}}, {'type': 'actions', 'elements': [{'type': 'button', 'text': {'type': 'plain_text', 'text': 'Click Me'}, 'value': 'click_me_123', 'url': 'https://www.ptt.cc/bbs/Stock/M.1673233191.A.12F.html', 'action_id': 'button-action'}]}, {'type': 'divider'}, {'type': 'section', 'text': {'type': 'mrkdwn', 'text': '\\n>*STOCK ID* : 2317 \\n*TITLE* : Re: [標的] 2317鴻海 裕隆2201 趨勢就是多\\n*AUTHOR* : morethanless\\n'}}, {'type': 'actions', 'elements': [{'type': 'button', 'text': {'type': 'plain_text', 'text': 'Click Me'}, 'value': 'click_me_123', 'url': 'https://www.ptt.cc/bbs/Stock/M.1673168633.A.7FA.html', 'action_id': 'button-action'}]}, {'type': 'divider'}, {'type': 'section', 'text': {'type': 'mrkdwn', 'text': '\\n>*STOCK ID* : 0091 \\n*TITLE* : [標的] 0091.HK 金禧國際 討論\\n*AUTHOR* : black80731\\n'}}, {'type': 'actions', 'elements': [{'type': 'button', 'text': {'type': 'plain_text', 'text': 'Click Me'}, 'value': 'click_me_123', 'url': 'https://www.ptt.cc/bbs/Stock/M.1673084876.A.197.html', 'action_id': 'button-action'}]}, {'type': 'divider'}, {'type': 'section', 'text': {'type': 'mrkdwn', 'text': '\\n>*STOCK ID* : 2885 \\n*TITLE* : [標的] 2885 元大金\\n*AUTHOR* : sheisol\\n'}}, {'type': 'actions', 'elements': [{'type': 'button', 'text': {'type': 'plain_text', 'text': 'Click Me'}, 'value': 'click_me_123', 'url': 'https://www.ptt.cc/bbs/Stock/M.1673131867.A.8AB.html', 'action_id': 'button-action'}]}, {'type': 'divider'}]}\n"
     ]
    }
   ],
   "source": [
    "for index, row in filter_df.iterrows():\n",
    "    #s['blocks'].append({'type': 'divider'})\n",
    "    s['blocks'].append({'type': 'section', 'text': {'type': 'mrkdwn',\"text\":\"\\n>*STOCK ID* : {} \\n*TITLE* : {}\\n*AUTHOR* : {}\\n\"\\\n",
    "        .format(row['STOCK_ID'],row['TITLE'],row['AUTHOR'])}})\n",
    "    s['blocks'].append({'type': 'actions',\n",
    "    'elements': [{'type': 'button',\n",
    "    'text': {'type': 'plain_text', 'text': 'Click Me'},\n",
    "    'value': 'click_me_123',\"url\":row['LINK'],\n",
    "    'action_id': 'button-action'}]})\n",
    "    s['blocks'].append({'type': 'divider'})\n",
    "    \n",
    "        \n",
    "print(s)\n",
    "    "
   ]
  },
  {
   "cell_type": "code",
   "execution_count": 37,
   "metadata": {},
   "outputs": [
    {
     "name": "stdout",
     "output_type": "stream",
     "text": [
      "<Response [200]>\n"
     ]
    }
   ],
   "source": [
    "rtn = requests.post(config['SLACK_WEBHOOK'], data=json.dumps(s),headers=dict_headers)\n",
    "print(rtn)"
   ]
  },
  {
   "cell_type": "code",
   "execution_count": 8,
   "metadata": {},
   "outputs": [
    {
     "data": {
      "text/plain": [
       "{'blocks': [{'type': 'section',\n",
       "   'text': {'type': 'mrkdwn', 'text': '*PTT STOCK* :zap:'}},\n",
       "  {'type': 'divider'},\n",
       "  {'type': 'section',\n",
       "   'text': {'type': 'mrkdwn',\n",
       "    'text': '>*Team Lunch (Internal)*\\nCost: *$85.50USD*\\nDate: *10/16/2019*\\nService Provider: *Honest Sandwiches*  \\nExpense no. *<fakelink.toUrl.com|#1797PD>*'}},\n",
       "  {'type': 'actions',\n",
       "   'elements': [{'type': 'button',\n",
       "     'text': {'type': 'plain_text', 'text': 'Click Me', 'emoji': 'true'},\n",
       "     'value': 'click_me_123',\n",
       "     'url': 'https://google.com',\n",
       "     'action_id': 'button-action'}]},\n",
       "  {'type': 'divider'}]}"
      ]
     },
     "execution_count": 8,
     "metadata": {},
     "output_type": "execute_result"
    }
   ],
   "source": [
    "s"
   ]
  }
 ],
 "metadata": {
  "kernelspec": {
   "display_name": "venv",
   "language": "python",
   "name": "python3"
  },
  "language_info": {
   "codemirror_mode": {
    "name": "ipython",
    "version": 3
   },
   "file_extension": ".py",
   "mimetype": "text/x-python",
   "name": "python",
   "nbconvert_exporter": "python",
   "pygments_lexer": "ipython3",
   "version": "3.9.12"
  },
  "orig_nbformat": 4,
  "vscode": {
   "interpreter": {
    "hash": "8a15ce0d7994a0f5b98927e86cf25985c76689c4897e49feb62a94f09b0bb1fb"
   }
  }
 },
 "nbformat": 4,
 "nbformat_minor": 2
}
